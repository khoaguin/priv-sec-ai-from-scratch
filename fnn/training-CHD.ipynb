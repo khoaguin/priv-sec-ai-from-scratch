{
 "cells": [
  {
   "cell_type": "code",
   "execution_count": 55,
   "metadata": {},
   "outputs": [],
   "source": [
    "import torch\n",
    "import pandas as pd\n",
    "import random\n",
    "import numpy as np\n",
    "import matplotlib.pyplot as plt\n",
    "from mlp import MLP, bce_loss\n",
    "from icecream import ic"
   ]
  },
  {
   "cell_type": "markdown",
   "metadata": {},
   "source": [
    "## 1. Data Preparing"
   ]
  },
  {
   "cell_type": "code",
   "execution_count": 37,
   "metadata": {},
   "outputs": [],
   "source": [
    "def split_train_test(x, y, test_ratio=0.3):\n",
    "    idxs = [i for i in range(len(x))]\n",
    "    random.shuffle(idxs)\n",
    "    # delimiter between test and train data\n",
    "    delim = int(len(x) * test_ratio)\n",
    "    test_idxs, train_idxs = idxs[:delim], idxs[delim:]\n",
    "    return x[train_idxs], y[train_idxs], x[test_idxs], y[test_idxs]\n",
    "\n",
    "def heart_disease_data(data_path: str):\n",
    "    data = pd.read_csv(data_path)\n",
    "    # drop rows with missing values\n",
    "    data = data.dropna()\n",
    "    # drop some features\n",
    "    data = data.drop(columns=[\"education\", \"currentSmoker\", \"BPMeds\", \n",
    "                              \"diabetes\", \"diaBP\", \"BMI\"])\n",
    "    # balance data\n",
    "    grouped = data.groupby('TenYearCHD')\n",
    "    data = grouped.apply(\n",
    "        lambda x: x.sample(grouped.size().min(), random_state=73).reset_index(drop=True)\n",
    "        )\n",
    "    # extract labels\n",
    "    y = torch.tensor(data[\"TenYearCHD\"].values).float().unsqueeze(1)\n",
    "    # data = data.drop(\"TenYearCHD\", 'columns')\n",
    "    data = data.drop(columns=\"TenYearCHD\")\n",
    "\n",
    "    # standardize data\n",
    "    data = (data - data.mean()) / data.std()\n",
    "    x = torch.tensor(data.values).float()\n",
    "    return split_train_test(x, y)"
   ]
  },
  {
   "cell_type": "code",
   "execution_count": 38,
   "metadata": {},
   "outputs": [],
   "source": [
    "x_train, y_train, x_test, y_test = heart_disease_data(\"./data/framingham.csv\")"
   ]
  },
  {
   "cell_type": "code",
   "execution_count": 39,
   "metadata": {},
   "outputs": [
    {
     "name": "stdout",
     "output_type": "stream",
     "text": [
      "############# Data summary #############\n",
      "x_train has shape: torch.Size([780, 9])\n",
      "y_train has shape: torch.Size([780, 1])\n",
      "x_test has shape: torch.Size([334, 9])\n",
      "y_test has shape: torch.Size([334, 1])\n",
      "#######################################\n"
     ]
    }
   ],
   "source": [
    "print(\"############# Data summary #############\")\n",
    "print(f\"x_train has shape: {x_train.shape}\")\n",
    "print(f\"y_train has shape: {y_train.shape}\")\n",
    "print(f\"x_test has shape: {x_test.shape}\")\n",
    "print(f\"y_test has shape: {y_test.shape}\")\n",
    "print(\"#######################################\")"
   ]
  },
  {
   "cell_type": "markdown",
   "metadata": {},
   "source": [
    "## 2. Model"
   ]
  },
  {
   "cell_type": "code",
   "execution_count": 66,
   "metadata": {},
   "outputs": [],
   "source": [
    "num_features = [9, 4, 1]\n",
    "net = MLP(\n",
    "    linear_1_in_features=num_features[0],\n",
    "    linear_1_out_features=num_features[1],\n",
    "    f_function='relu',\n",
    "    linear_2_in_features=num_features[1],\n",
    "    linear_2_out_features=num_features[2],\n",
    "    g_function='sigmoid'\n",
    ")"
   ]
  },
  {
   "cell_type": "markdown",
   "metadata": {},
   "source": [
    "Training loop"
   ]
  },
  {
   "cell_type": "code",
   "execution_count": 67,
   "metadata": {},
   "outputs": [
    {
     "name": "stderr",
     "output_type": "stream",
     "text": [
      "ic| loss: tensor(0.8200)\n",
      "ic| loss: tensor(0.7370)\n",
      "ic| loss: tensor(0.7760)\n",
      "ic| loss: tensor(1.5638)\n",
      "ic| loss: tensor(1.7446)\n",
      "ic| loss: tensor(1.5059)\n",
      "ic| loss: tensor(1.1043)\n",
      "ic| loss: tensor(0.8454)\n",
      "ic| loss: tensor(0.8922)\n",
      "ic| loss: tensor(0.9937)\n",
      "ic| loss: tensor(0.9071)\n",
      "ic| loss: tensor(0.9095)\n",
      "ic| loss: tensor(0.7948)\n",
      "ic| loss: tensor(0.7838)\n",
      "ic| loss: tensor(0.7385)\n",
      "ic| loss: tensor(0.7518)\n",
      "ic| loss: tensor(0.7113)\n",
      "ic| loss: tensor(0.7193)\n",
      "ic| loss: tensor(0.6883)\n",
      "ic| loss: tensor(0.6929)\n",
      "ic| loss: tensor(0.6712)\n",
      "ic| loss: tensor(0.6739)\n",
      "ic| loss: tensor(0.6589)\n",
      "ic| loss: tensor(0.6602)\n",
      "ic| loss: tensor(0.6497)\n",
      "ic| loss: tensor(0.6503)\n",
      "ic| loss: tensor(0.6429)\n",
      "ic| loss: tensor(0.6429)\n",
      "ic| loss: tensor(0.6377)\n",
      "ic| loss: tensor(0.6373)\n",
      "ic| loss: tensor(0.6336)\n",
      "ic| loss: tensor(0.6331)\n",
      "ic| loss: tensor(0.6303)\n",
      "ic| loss: tensor(0.6297)\n",
      "ic| loss: tensor(0.6277)\n",
      "ic| loss: tensor(0.6271)\n",
      "ic| loss: tensor(0.6255)\n",
      "ic| loss: tensor(0.6249)\n",
      "ic| loss: tensor(0.6237)\n",
      "ic| loss: tensor(0.6232)\n",
      "ic| loss: tensor(0.6223)\n",
      "ic| loss: tensor(0.6217)\n",
      "ic| loss: tensor(0.6210)\n",
      "ic| loss: tensor(0.6205)\n",
      "ic| loss: tensor(0.6199)\n",
      "ic| loss: tensor(0.6195)\n",
      "ic| loss: tensor(0.6190)\n",
      "ic| loss: tensor(0.6186)\n",
      "ic| loss: tensor(0.6181)\n",
      "ic| loss: tensor(0.6178)\n",
      "ic| loss: tensor(0.6174)\n",
      "ic| loss: tensor(0.6170)\n",
      "ic| loss: tensor(0.6167)\n",
      "ic| loss: tensor(0.6163)\n",
      "ic| loss: tensor(0.6160)\n",
      "ic| loss: tensor(0.6157)\n",
      "ic| loss: tensor(0.6154)\n",
      "ic| loss: tensor(0.6151)\n",
      "ic| loss: tensor(0.6148)\n",
      "ic| loss: tensor(0.6146)\n",
      "ic| loss: tensor(0.6143)\n",
      "ic| loss: tensor(0.6140)\n",
      "ic| loss: tensor(0.6138)\n",
      "ic| loss: tensor(0.6135)\n",
      "ic| loss: tensor(0.6133)\n",
      "ic| loss: tensor(0.6131)\n",
      "ic| loss: tensor(0.6128)\n",
      "ic| loss: tensor(0.6126)\n",
      "ic| loss: tensor(0.6123)\n",
      "ic| loss: tensor(0.6121)\n",
      "ic| loss: tensor(0.6119)\n",
      "ic| loss: tensor(0.6116)\n",
      "ic| loss: tensor(0.6114)\n",
      "ic| loss: tensor(0.6112)\n",
      "ic| loss: tensor(0.6110)\n",
      "ic| loss: tensor(0.6107)\n",
      "ic| loss: tensor(0.6105)\n",
      "ic| loss: tensor(0.6103)\n",
      "ic| loss: tensor(0.6100)\n",
      "ic| loss: tensor(0.6098)\n",
      "ic| loss: tensor(0.6095)\n",
      "ic| loss: tensor(0.6093)\n",
      "ic| loss: tensor(0.6091)\n",
      "ic| loss: tensor(0.6089)\n",
      "ic| loss: tensor(0.6086)\n",
      "ic| loss: tensor(0.6084)\n",
      "ic| loss: tensor(0.6082)\n",
      "ic| loss: tensor(0.6079)\n",
      "ic| loss: tensor(0.6077)\n",
      "ic| loss: tensor(0.6075)\n",
      "ic| loss: tensor(0.6073)\n",
      "ic| loss: tensor(0.6071)\n",
      "ic| loss: tensor(0.6069)\n",
      "ic| loss: tensor(0.6066)\n",
      "ic| loss: tensor(0.6064)\n",
      "ic| loss: tensor(0.6062)\n",
      "ic| loss: tensor(0.6060)\n",
      "ic| loss: tensor(0.6058)\n",
      "ic| loss: tensor(0.6056)\n",
      "ic| loss: tensor(0.6054)\n"
     ]
    }
   ],
   "source": [
    "epochs = 100\n",
    "for e in range(epochs):\n",
    "    # training loop\n",
    "    net.clear_grad_and_cache()\n",
    "    y_hat = net.forward(x_train)\n",
    "    loss, dJdy_hat = bce_loss(y_train, y_hat)\n",
    "    ic(loss)\n",
    "    net.backward(dJdy_hat)  # calculate the gradients\n",
    "    correct = torch.abs(y_train - y_hat) < 0.5\n",
    "    accuracy = correct.float().mean()\n",
    "    # print(f\"Training loss at epoch {e}: {loss.data}\")\n",
    "    # print(f\"Training accuracy at epoch {e}: {accuracy}\")\n",
    "    net.update_params()\n",
    "\n",
    "    # testing loop\n",
    "    # y_hat_test = net.forward(x_test)\n",
    "    # loss_test, _ = bce_loss(y_test, y_hat_test)\n",
    "    # correct_test = torch.abs(y_test - y_hat_test) < 0.5\n",
    "    # accuracy_test = correct_test.float().mean()\n",
    "    # print(f\"Testing loss at epoch {e}: {loss.data}\")\n",
    "    # print(f\"Testing accuracy at epoch {e}: {accuracy_test}\")\n",
    "\n",
    "    "
   ]
  },
  {
   "cell_type": "code",
   "execution_count": 2,
   "metadata": {},
   "outputs": [
    {
     "ename": "NameError",
     "evalue": "name 'net' is not defined",
     "output_type": "error",
     "traceback": [
      "\u001b[0;31m---------------------------------------------------------------------------\u001b[0m",
      "\u001b[0;31mNameError\u001b[0m                                 Traceback (most recent call last)",
      "\u001b[0;32m/tmp/ipykernel_20374/400809837.py\u001b[0m in \u001b[0;36m<module>\u001b[0;34m\u001b[0m\n\u001b[1;32m      4\u001b[0m     \u001b[0;32mreturn\u001b[0m \u001b[0mcorrect\u001b[0m\u001b[0;34m.\u001b[0m\u001b[0mfloat\u001b[0m\u001b[0;34m(\u001b[0m\u001b[0;34m)\u001b[0m\u001b[0;34m.\u001b[0m\u001b[0mmean\u001b[0m\u001b[0;34m(\u001b[0m\u001b[0;34m)\u001b[0m\u001b[0;34m\u001b[0m\u001b[0;34m\u001b[0m\u001b[0m\n\u001b[1;32m      5\u001b[0m \u001b[0;34m\u001b[0m\u001b[0m\n\u001b[0;32m----> 6\u001b[0;31m \u001b[0mplain_accuracy\u001b[0m \u001b[0;34m=\u001b[0m \u001b[0maccuracy\u001b[0m\u001b[0;34m(\u001b[0m\u001b[0mnet\u001b[0m\u001b[0;34m,\u001b[0m \u001b[0mx_test\u001b[0m\u001b[0;34m,\u001b[0m \u001b[0my_test\u001b[0m\u001b[0;34m)\u001b[0m\u001b[0;34m\u001b[0m\u001b[0;34m\u001b[0m\u001b[0m\n\u001b[0m\u001b[1;32m      7\u001b[0m \u001b[0mprint\u001b[0m\u001b[0;34m(\u001b[0m\u001b[0;34mf\"Accuracy on plain test_set: {plain_accuracy}\"\u001b[0m\u001b[0;34m)\u001b[0m\u001b[0;34m\u001b[0m\u001b[0;34m\u001b[0m\u001b[0m\n",
      "\u001b[0;31mNameError\u001b[0m: name 'net' is not defined"
     ]
    }
   ],
   "source": [
    "def accuracy(model, x, y):\n",
    "    out = model.forward(x)\n",
    "    correct = torch.abs(y - out) < 0.5\n",
    "    return correct.float().mean()\n",
    "\n",
    "plain_accuracy = accuracy(net, x_test, y_test)\n",
    "print(f\"Accuracy on plain test_set: {plain_accuracy}\")"
   ]
  },
  {
   "cell_type": "code",
   "execution_count": 24,
   "metadata": {},
   "outputs": [],
   "source": [
    "class LR(torch.nn.Module):\n",
    "\n",
    "    def __init__(self, n_features):\n",
    "        super(LR, self).__init__()\n",
    "        self.lr = torch.nn.Linear(n_features, 1)\n",
    "        \n",
    "    def forward(self, x):\n",
    "        out = torch.sigmoid(self.lr(x))\n",
    "        return out"
   ]
  },
  {
   "cell_type": "code",
   "execution_count": 25,
   "metadata": {},
   "outputs": [
    {
     "name": "stdout",
     "output_type": "stream",
     "text": [
      "Loss at epoch 1: 0.7648208141326904\n",
      "Loss at epoch 2: 0.6660396456718445\n",
      "Loss at epoch 3: 0.6310326457023621\n",
      "Loss at epoch 4: 0.6159663796424866\n",
      "Loss at epoch 5: 0.6083087921142578\n"
     ]
    }
   ],
   "source": [
    "model = LR(9)\n",
    "# use gradient descent with a learning_rate=1\n",
    "optim = torch.optim.SGD(model.parameters(), lr=1)\n",
    "# use Binary Cross Entropy Loss\n",
    "criterion = torch.nn.BCELoss()\n",
    "\n",
    "# define the number of epochs for both plain and encrypted training\n",
    "EPOCHS = 5\n",
    "\n",
    "def train(model, optim, criterion, x, y, epochs=EPOCHS):\n",
    "    for e in range(1, epochs + 1):\n",
    "        optim.zero_grad()\n",
    "        out = model(x)\n",
    "        loss = criterion(out, y)\n",
    "        loss.backward()\n",
    "        optim.step()\n",
    "        print(f\"Loss at epoch {e}: {loss.data}\")\n",
    "    return model\n",
    "\n",
    "model = train(model, optim, criterion, x_train, y_train)"
   ]
  },
  {
   "cell_type": "code",
   "execution_count": 26,
   "metadata": {},
   "outputs": [
    {
     "name": "stdout",
     "output_type": "stream",
     "text": [
      "Accuracy on plain test_set: 0.7005987763404846\n"
     ]
    }
   ],
   "source": [
    "def accuracy(model, x, y):\n",
    "    out = model(x)\n",
    "    correct = torch.abs(y - out) < 0.5\n",
    "    return correct.float().mean()\n",
    "\n",
    "plain_accuracy = accuracy(model, x_test, y_test)\n",
    "print(f\"Accuracy on plain test_set: {plain_accuracy}\")"
   ]
  },
  {
   "cell_type": "code",
   "execution_count": null,
   "metadata": {},
   "outputs": [],
   "source": []
  }
 ],
 "metadata": {
  "interpreter": {
   "hash": "4fb056718432581df00ec0ea1d8474ad391dc3f52021963853b762465b19daea"
  },
  "kernelspec": {
   "display_name": "Python 3.9.7 64-bit ('privsecai': conda)",
   "name": "python3"
  },
  "language_info": {
   "codemirror_mode": {
    "name": "ipython",
    "version": 3
   },
   "file_extension": ".py",
   "mimetype": "text/x-python",
   "name": "python",
   "nbconvert_exporter": "python",
   "pygments_lexer": "ipython3",
   "version": "3.9.7"
  },
  "orig_nbformat": 4
 },
 "nbformat": 4,
 "nbformat_minor": 2
}

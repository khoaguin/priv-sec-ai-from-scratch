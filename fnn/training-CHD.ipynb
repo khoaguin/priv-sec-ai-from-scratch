{
 "cells": [
  {
   "cell_type": "markdown",
   "metadata": {},
   "source": [
    "Code that use our manual constructed network to train a simple 2-layer neural network to predict the risk of future Coronary Heart Disease (CHD). The dataset used is located in `./data/framingham.csv`. The data can be downloaded from [here](https://github.com/TarekDib03/Analytics/blob/master/Week3%20-%20Logistic%20Regression/Data/framingham.csv)"
   ]
  },
  {
   "cell_type": "code",
   "execution_count": 1,
   "metadata": {},
   "outputs": [],
   "source": [
    "import torch\n",
    "import pandas as pd\n",
    "import random\n",
    "import numpy as np\n",
    "import matplotlib.pyplot as plt\n",
    "from mlp import MLP, bce_loss\n",
    "from icecream import ic"
   ]
  },
  {
   "cell_type": "markdown",
   "metadata": {},
   "source": [
    "## 1. Data Preparing"
   ]
  },
  {
   "cell_type": "code",
   "execution_count": 2,
   "metadata": {},
   "outputs": [],
   "source": [
    "def split_train_test(x, y, test_ratio=0.3):\n",
    "    idxs = [i for i in range(len(x))]\n",
    "    random.shuffle(idxs)\n",
    "    # delimiter between test and train data\n",
    "    delim = int(len(x) * test_ratio)\n",
    "    test_idxs, train_idxs = idxs[:delim], idxs[delim:]\n",
    "    return x[train_idxs], y[train_idxs], x[test_idxs], y[test_idxs]\n",
    "\n",
    "def heart_disease_data(data_path: str):\n",
    "    data = pd.read_csv(data_path)\n",
    "    # drop rows with missing values\n",
    "    data = data.dropna()\n",
    "    # drop some features\n",
    "    data = data.drop(columns=[\"education\", \"currentSmoker\", \"BPMeds\", \n",
    "                              \"diabetes\", \"diaBP\", \"BMI\"])\n",
    "    # balance data\n",
    "    grouped = data.groupby('TenYearCHD')\n",
    "    data = grouped.apply(\n",
    "        lambda x: x.sample(grouped.size().min(), random_state=73).reset_index(drop=True)\n",
    "        )\n",
    "    # extract labels\n",
    "    y = torch.tensor(data[\"TenYearCHD\"].values).float().unsqueeze(1)\n",
    "    # data = data.drop(\"TenYearCHD\", 'columns')\n",
    "    data = data.drop(columns=\"TenYearCHD\")\n",
    "\n",
    "    # standardize data\n",
    "    data = (data - data.mean()) / data.std()\n",
    "    x = torch.tensor(data.values).float()\n",
    "    return split_train_test(x, y)"
   ]
  },
  {
   "cell_type": "code",
   "execution_count": 3,
   "metadata": {},
   "outputs": [],
   "source": [
    "x_train, y_train, x_test, y_test = heart_disease_data(\"./data/framingham.csv\")"
   ]
  },
  {
   "cell_type": "code",
   "execution_count": 4,
   "metadata": {},
   "outputs": [
    {
     "name": "stdout",
     "output_type": "stream",
     "text": [
      "############# Data summary #############\n",
      "x_train has shape: torch.Size([780, 9])\n",
      "y_train has shape: torch.Size([780, 1])\n",
      "x_test has shape: torch.Size([334, 9])\n",
      "y_test has shape: torch.Size([334, 1])\n",
      "#######################################\n"
     ]
    }
   ],
   "source": [
    "print(\"############# Data summary #############\")\n",
    "print(f\"x_train has shape: {x_train.shape}\")\n",
    "print(f\"y_train has shape: {y_train.shape}\")\n",
    "print(f\"x_test has shape: {x_test.shape}\")\n",
    "print(f\"y_test has shape: {y_test.shape}\")\n",
    "print(\"#######################################\")"
   ]
  },
  {
   "cell_type": "markdown",
   "metadata": {},
   "source": [
    "## 2. Model (manual)"
   ]
  },
  {
   "cell_type": "code",
   "execution_count": 5,
   "metadata": {},
   "outputs": [],
   "source": [
    "num_features = [9, 4, 1]\n",
    "net = MLP(\n",
    "    linear_1_in_features=num_features[0],\n",
    "    linear_1_out_features=num_features[1],\n",
    "    f_function='relu',\n",
    "    linear_2_in_features=num_features[1],\n",
    "    linear_2_out_features=num_features[2],\n",
    "    g_function='sigmoid',\n",
    "    lr=1\n",
    ")"
   ]
  },
  {
   "cell_type": "markdown",
   "metadata": {},
   "source": [
    "Training loop"
   ]
  },
  {
   "cell_type": "code",
   "execution_count": 6,
   "metadata": {},
   "outputs": [
    {
     "name": "stdout",
     "output_type": "stream",
     "text": [
      "Loss at epoch 1: 3.22\n",
      "Loss at epoch 2: 1.46\n",
      "Loss at epoch 3: 1.04\n",
      "Loss at epoch 4: 0.83\n",
      "Loss at epoch 5: 0.73\n",
      "Loss at epoch 6: 0.68\n",
      "Loss at epoch 7: 0.66\n",
      "Loss at epoch 8: 0.64\n",
      "Loss at epoch 9: 0.63\n",
      "Loss at epoch 10: 0.62\n",
      "Loss at epoch 11: 0.62\n",
      "Loss at epoch 12: 0.62\n",
      "Loss at epoch 13: 0.61\n",
      "Loss at epoch 14: 0.61\n",
      "Loss at epoch 15: 0.61\n",
      "Loss at epoch 16: 0.61\n",
      "Loss at epoch 17: 0.60\n",
      "Loss at epoch 18: 0.60\n",
      "Loss at epoch 19: 0.60\n",
      "Loss at epoch 20: 0.60\n"
     ]
    }
   ],
   "source": [
    "epochs = 20\n",
    "for e in range(1, epochs+1):\n",
    "    # training loop\n",
    "    net.clear_grad_and_cache()\n",
    "    y_hat = net.forward(x_train)\n",
    "    loss, dJdy_hat = bce_loss(y_train, y_hat)\n",
    "    net.backward(dJdy_hat)  # calculate the gradients\n",
    "    correct = torch.abs(y_train - y_hat) < 0.5\n",
    "    accuracy = correct.float().mean()\n",
    "    # print(f\"Training loss at epoch {e}: {loss.data}\")\n",
    "    # print(f\"Training accuracy at epoch {e}: {accuracy}\")\n",
    "    net.update_params()\n",
    "    print(f\"Loss at epoch {e}: {loss.data:.2f}\")\n",
    "    \n",
    "    # testing loop\n",
    "    # y_hat_test = net.forward(x_test)\n",
    "    # loss_test, _ = bce_loss(y_test, y_hat_test)\n",
    "    # correct_test = torch.abs(y_test - y_hat_test) < 0.5\n",
    "    # accuracy_test = correct_test.float().mean()\n",
    "    # print(f\"Testing loss at epoch {e}: {loss.data}\")\n",
    "    # print(f\"Testing accuracy at epoch {e}: {accuracy_test}\")\n",
    "\n",
    "    "
   ]
  },
  {
   "cell_type": "code",
   "execution_count": 7,
   "metadata": {},
   "outputs": [
    {
     "name": "stdout",
     "output_type": "stream",
     "text": [
      "Accuracy on plain test_set: 64.07%\n"
     ]
    }
   ],
   "source": [
    "def accuracy(model, x, y):\n",
    "    out = model.forward(x)\n",
    "    correct = torch.abs(y - out) < 0.5\n",
    "    return correct.float().mean()\n",
    "\n",
    "plain_accuracy = accuracy(net, x_test, y_test)\n",
    "print(f\"Accuracy on plain test_set: {plain_accuracy*100:.2f}%\")"
   ]
  },
  {
   "cell_type": "markdown",
   "metadata": {},
   "source": [
    "## 3. Model (torch)"
   ]
  },
  {
   "cell_type": "code",
   "execution_count": 8,
   "metadata": {},
   "outputs": [],
   "source": [
    "class LR(torch.nn.Module):\n",
    "\n",
    "    def __init__(self, n_features):\n",
    "        super(LR, self).__init__()\n",
    "        self.linear1 = torch.nn.Linear(n_features, 4)\n",
    "        self.relu = torch.nn.ReLU()\n",
    "        self.linear2 = torch.nn.Linear(4, 1)\n",
    "        self.sigmoid = torch.nn.Sigmoid()\n",
    "        \n",
    "    def forward(self, x):\n",
    "        out = self.linear1(x)\n",
    "        out = self.relu(out)\n",
    "        out = self.linear2(out)\n",
    "        out = self.sigmoid(out)\n",
    "        return out"
   ]
  },
  {
   "cell_type": "code",
   "execution_count": 9,
   "metadata": {},
   "outputs": [
    {
     "name": "stdout",
     "output_type": "stream",
     "text": [
      "Loss at epoch 1: 0.71\n",
      "Loss at epoch 2: 0.70\n",
      "Loss at epoch 3: 0.69\n",
      "Loss at epoch 4: 0.69\n",
      "Loss at epoch 5: 0.68\n",
      "Loss at epoch 6: 0.68\n",
      "Loss at epoch 7: 0.67\n",
      "Loss at epoch 8: 0.66\n",
      "Loss at epoch 9: 0.66\n",
      "Loss at epoch 10: 0.65\n",
      "Loss at epoch 11: 0.64\n",
      "Loss at epoch 12: 0.63\n",
      "Loss at epoch 13: 0.62\n",
      "Loss at epoch 14: 0.62\n",
      "Loss at epoch 15: 0.61\n",
      "Loss at epoch 16: 0.60\n",
      "Loss at epoch 17: 0.60\n",
      "Loss at epoch 18: 0.60\n",
      "Loss at epoch 19: 0.60\n",
      "Loss at epoch 20: 0.59\n"
     ]
    }
   ],
   "source": [
    "model = LR(9)\n",
    "# use gradient descent with a learning_rate=1\n",
    "optim = torch.optim.SGD(model.parameters(), lr=1)\n",
    "# use Binary Cross Entropy Loss\n",
    "criterion = torch.nn.BCELoss()\n",
    "\n",
    "# define the number of epochs for both plain and encrypted training\n",
    "EPOCHS = 20\n",
    "\n",
    "def train(model, optim, criterion, x, y, epochs=EPOCHS):\n",
    "    for e in range(1, epochs + 1):\n",
    "        optim.zero_grad()\n",
    "        out = model(x)\n",
    "        loss = criterion(out, y)\n",
    "        loss.backward()\n",
    "        optim.step()\n",
    "        print(f\"Loss at epoch {e}: {loss.data:.2f}\")\n",
    "    return model\n",
    "\n",
    "model = train(model, optim, criterion, x_train, y_train)"
   ]
  },
  {
   "cell_type": "code",
   "execution_count": 10,
   "metadata": {},
   "outputs": [
    {
     "name": "stdout",
     "output_type": "stream",
     "text": [
      "Accuracy on plain test_set: 66.17%\n"
     ]
    }
   ],
   "source": [
    "def accuracy(model, x, y):\n",
    "    out = model(x)\n",
    "    correct = torch.abs(y - out) < 0.5\n",
    "    return correct.float().mean()\n",
    "\n",
    "plain_accuracy = accuracy(model, x_test, y_test)\n",
    "print(f\"Accuracy on plain test_set: {plain_accuracy*100:.2f}%\")"
   ]
  },
  {
   "cell_type": "code",
   "execution_count": null,
   "metadata": {},
   "outputs": [],
   "source": []
  }
 ],
 "metadata": {
  "interpreter": {
   "hash": "36cf93a43fd54f0f2b823354a3e9183b7546039adfe870a383675b35769c9d33"
  },
  "kernelspec": {
   "display_name": "Python 3.9.1 64-bit ('base': conda)",
   "name": "python3"
  },
  "language_info": {
   "codemirror_mode": {
    "name": "ipython",
    "version": 3
   },
   "file_extension": ".py",
   "mimetype": "text/x-python",
   "name": "python",
   "nbconvert_exporter": "python",
   "pygments_lexer": "ipython3",
   "version": "3.9.1"
  },
  "orig_nbformat": 4
 },
 "nbformat": 4,
 "nbformat_minor": 2
}
